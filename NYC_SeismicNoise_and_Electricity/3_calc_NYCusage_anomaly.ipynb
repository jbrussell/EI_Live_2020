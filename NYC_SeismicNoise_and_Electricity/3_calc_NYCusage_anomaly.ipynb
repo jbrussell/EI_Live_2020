{
 "cells": [
  {
   "cell_type": "markdown",
   "metadata": {
    "nteract": {
     "transient": {
      "deleting": false
     }
    }
   },
   "source": [
    "# Calculate hourly change in electricity consumption for NYC (relative to 2016-2019 average)\n",
    "Hourly load data is downloaded from http://mis.nyiso.com/public/. Averages for 2016-2019 are calculated for each hour of each day and subtracted from the 2020 values to obtain a measure of the residual load. Times are already in NYC local time and takes into account daylight savings."
   ]
  },
  {
   "cell_type": "code",
   "execution_count": 1,
   "metadata": {
    "jupyter": {
     "outputs_hidden": false,
     "source_hidden": false
    },
    "nteract": {
     "transient": {
      "deleting": false
     }
    }
   },
   "outputs": [],
   "source": [
    "import matplotlib.pyplot as plt\n",
    "import numpy as np\n",
    "from datetime import datetime, timedelta\n",
    "import pandas as pd\n",
    "from io import BytesIO\n",
    "import requests\n",
    "from zipfile import ZipFile\n",
    "% matplotlib inline\n",
    "plt.rcParams.update({'font.size': 15})\n"
   ]
  },
  {
   "cell_type": "markdown",
   "metadata": {},
   "source": [
    "## Download Hourly Load Data\n",
    "The files are contained on the server in monthly zip files. Each zip file contains day files for each day of the month.\n",
    "\n",
    "For example:\n",
    "\n",
    "`\n",
    "http://mis.nyiso.com/public/\n",
    "                |\n",
    "                -- 20190601pal_csv.zip\n",
    "                             |\n",
    "                             -- 20190601pal.csv\n",
    "                                20190602pal.csv\n",
    "                                20190603pal.csv\n",
    "                                       .\n",
    "                                       .\n",
    "                                       `"
   ]
  },
  {
   "cell_type": "code",
   "execution_count": 2,
   "metadata": {
    "jupyter": {
     "outputs_hidden": false,
     "source_hidden": false
    },
    "nteract": {
     "transient": {
      "deleting": false
     }
    }
   },
   "outputs": [
    {
     "name": "stdout",
     "output_type": "stream",
     "text": [
      "20160101\n",
      "20160201\n",
      "20160301\n",
      "20160401\n",
      "20160501\n",
      "20160601\n",
      "20160701\n",
      "20160801\n",
      "20160901\n",
      "20161001\n",
      "20161101\n",
      "20161201\n",
      "20170101\n",
      "20170201\n",
      "20170301\n",
      "20170401\n",
      "20170501\n",
      "20170601\n",
      "20170701\n",
      "20170801\n",
      "20170901\n",
      "20171001\n",
      "20171101\n",
      "20171201\n",
      "20180101\n",
      "20180201\n",
      "20180301\n",
      "20180401\n",
      "20180501\n",
      "20180601\n",
      "20180701\n",
      "20180801\n",
      "20180901\n",
      "20181001\n",
      "20181101\n",
      "20181201\n",
      "20190101\n",
      "20190201\n",
      "20190301\n",
      "20190401\n",
      "20190501\n",
      "20190601\n",
      "20190701\n",
      "20190801\n",
      "20190901\n",
      "20191001\n",
      "20191101\n",
      "20191201\n",
      "20200101\n",
      "20200201\n",
      "20200301\n",
      "20200401\n",
      "20200501\n"
     ]
    },
    {
     "data": {
      "text/html": [
       "<div>\n",
       "<style scoped>\n",
       "    .dataframe tbody tr th:only-of-type {\n",
       "        vertical-align: middle;\n",
       "    }\n",
       "\n",
       "    .dataframe tbody tr th {\n",
       "        vertical-align: top;\n",
       "    }\n",
       "\n",
       "    .dataframe thead th {\n",
       "        text-align: right;\n",
       "    }\n",
       "</style>\n",
       "<table border=\"1\" class=\"dataframe\">\n",
       "  <thead>\n",
       "    <tr style=\"text-align: right;\">\n",
       "      <th></th>\n",
       "      <th>Date</th>\n",
       "      <th>Time Zone</th>\n",
       "      <th>Name</th>\n",
       "      <th>PTID</th>\n",
       "      <th>Load_megawatthours</th>\n",
       "    </tr>\n",
       "  </thead>\n",
       "  <tbody>\n",
       "    <tr>\n",
       "      <th>8</th>\n",
       "      <td>2016-01-05 00:00:00</td>\n",
       "      <td>EST</td>\n",
       "      <td>N.Y.C.</td>\n",
       "      <td>61761</td>\n",
       "      <td>5606.4</td>\n",
       "    </tr>\n",
       "    <tr>\n",
       "      <th>19</th>\n",
       "      <td>2016-01-05 00:04:20</td>\n",
       "      <td>EST</td>\n",
       "      <td>N.Y.C.</td>\n",
       "      <td>61761</td>\n",
       "      <td>5564.3</td>\n",
       "    </tr>\n",
       "    <tr>\n",
       "      <th>30</th>\n",
       "      <td>2016-01-05 00:05:00</td>\n",
       "      <td>EST</td>\n",
       "      <td>N.Y.C.</td>\n",
       "      <td>61761</td>\n",
       "      <td>5525.8</td>\n",
       "    </tr>\n",
       "    <tr>\n",
       "      <th>41</th>\n",
       "      <td>2016-01-05 00:06:08</td>\n",
       "      <td>EST</td>\n",
       "      <td>N.Y.C.</td>\n",
       "      <td>61761</td>\n",
       "      <td>5525.8</td>\n",
       "    </tr>\n",
       "    <tr>\n",
       "      <th>52</th>\n",
       "      <td>2016-01-05 00:10:00</td>\n",
       "      <td>EST</td>\n",
       "      <td>N.Y.C.</td>\n",
       "      <td>61761</td>\n",
       "      <td>5530.5</td>\n",
       "    </tr>\n",
       "  </tbody>\n",
       "</table>\n",
       "</div>"
      ],
      "text/plain": [
       "                  Date Time Zone    Name   PTID  Load_megawatthours\n",
       "8  2016-01-05 00:00:00       EST  N.Y.C.  61761              5606.4\n",
       "19 2016-01-05 00:04:20       EST  N.Y.C.  61761              5564.3\n",
       "30 2016-01-05 00:05:00       EST  N.Y.C.  61761              5525.8\n",
       "41 2016-01-05 00:06:08       EST  N.Y.C.  61761              5525.8\n",
       "52 2016-01-05 00:10:00       EST  N.Y.C.  61761              5530.5"
      ]
     },
     "execution_count": 2,
     "metadata": {},
     "output_type": "execute_result"
    }
   ],
   "source": [
    "# Set x-axis limits for plotting: datetime(YEAR, MONTH, DAY)\n",
    "tmin = datetime(2020, 2, 7)\n",
    "tmax = datetime(2020, 5, 15)\n",
    "\n",
    "# download hourly load data (in megawatt hours)\n",
    "datestr = pd.date_range('2016-01-01','2020-05-01', freq='MS').strftime(\"%Y%m01\").tolist()\n",
    "# Loop through zip files and add to list\n",
    "df_all = []\n",
    "for imon, monstr in enumerate(datestr):\n",
    "    print(monstr)\n",
    "    query_url = \"http://mis.nyiso.com/public/csv/pal/\"+monstr+\"pal_csv.zip\"\n",
    "    response = requests.get(query_url)\n",
    "\n",
    "    zip = ZipFile(BytesIO(response.content), 'r')\n",
    "    # Load files into dictionary of dataframes\n",
    "    dfs = {text_file.filename: pd.read_csv(zip.open(text_file.filename))\n",
    "           for text_file in zip.infolist()\n",
    "           if text_file.filename.endswith('.csv')}\n",
    "    # Join dataframes\n",
    "    dfi = pd.concat(dfs.values(), ignore_index=True)\n",
    "    # Index NYC\n",
    "    dfi_nyc = dfi[dfi.loc[:,'Name']=='N.Y.C.']\n",
    "    # Build list of dataframes that we will concat at the end\n",
    "    df_all.append(dfi_nyc)\n",
    "df = pd.concat(df_all)\n",
    "df.reset_index()\n",
    "df.rename(columns={'Time Stamp':'Date',\n",
    "                   'Load':'Load_megawatthours'},\n",
    "          inplace=True)\n",
    "# Convert date string to datetime\n",
    "df['Date']= pd.to_datetime(df['Date'])\n",
    "df.head()         "
   ]
  },
  {
   "cell_type": "code",
   "execution_count": 3,
   "metadata": {
    "jupyter": {
     "outputs_hidden": false,
     "source_hidden": false
    },
    "nteract": {
     "transient": {
      "deleting": false
     }
    }
   },
   "outputs": [],
   "source": [
    "# NYC stay at home 2020/3/22 8pm EST (UTC - 4)\n",
    "nyc_SAH = datetime(2020,3,22,20,0) + timedelta(0,4*60*60)\n"
   ]
  },
  {
   "cell_type": "markdown",
   "metadata": {
    "nteract": {
     "transient": {
      "deleting": false
     }
    }
   },
   "source": [
    "## Remove yearly trend\n",
    "Calculate hourly averages for years 2016-2019 and subtract from 2020 values."
   ]
  },
  {
   "cell_type": "code",
   "execution_count": 4,
   "metadata": {
    "jupyter": {
     "outputs_hidden": false,
     "source_hidden": false
    },
    "nteract": {
     "transient": {
      "deleting": false
     }
    }
   },
   "outputs": [
    {
     "data": {
      "text/html": [
       "<div>\n",
       "<style scoped>\n",
       "    .dataframe tbody tr th:only-of-type {\n",
       "        vertical-align: middle;\n",
       "    }\n",
       "\n",
       "    .dataframe tbody tr th {\n",
       "        vertical-align: top;\n",
       "    }\n",
       "\n",
       "    .dataframe thead tr th {\n",
       "        text-align: left;\n",
       "    }\n",
       "\n",
       "    .dataframe thead tr:last-of-type th {\n",
       "        text-align: right;\n",
       "    }\n",
       "</style>\n",
       "<table border=\"1\" class=\"dataframe\">\n",
       "  <thead>\n",
       "    <tr>\n",
       "      <th></th>\n",
       "      <th></th>\n",
       "      <th></th>\n",
       "      <th colspan=\"5\" halign=\"left\">Load_megawatthours</th>\n",
       "    </tr>\n",
       "    <tr>\n",
       "      <th></th>\n",
       "      <th></th>\n",
       "      <th>Date</th>\n",
       "      <th>2016</th>\n",
       "      <th>2017</th>\n",
       "      <th>2018</th>\n",
       "      <th>2019</th>\n",
       "      <th>2020</th>\n",
       "    </tr>\n",
       "    <tr>\n",
       "      <th>Date</th>\n",
       "      <th>Date</th>\n",
       "      <th>Date</th>\n",
       "      <th></th>\n",
       "      <th></th>\n",
       "      <th></th>\n",
       "      <th></th>\n",
       "      <th></th>\n",
       "    </tr>\n",
       "  </thead>\n",
       "  <tbody>\n",
       "    <tr>\n",
       "      <th rowspan=\"5\" valign=\"top\">1</th>\n",
       "      <th rowspan=\"5\" valign=\"top\">1</th>\n",
       "      <th>0</th>\n",
       "      <td>4919.758333</td>\n",
       "      <td>5031.266667</td>\n",
       "      <td>6100.091667</td>\n",
       "      <td>4924.864286</td>\n",
       "      <td>4920.525000</td>\n",
       "    </tr>\n",
       "    <tr>\n",
       "      <th>1</th>\n",
       "      <td>4737.991667</td>\n",
       "      <td>4861.641667</td>\n",
       "      <td>5927.383333</td>\n",
       "      <td>4743.608333</td>\n",
       "      <td>4782.291667</td>\n",
       "    </tr>\n",
       "    <tr>\n",
       "      <th>2</th>\n",
       "      <td>4533.225000</td>\n",
       "      <td>4667.608333</td>\n",
       "      <td>5759.916667</td>\n",
       "      <td>4551.125000</td>\n",
       "      <td>4639.833333</td>\n",
       "    </tr>\n",
       "    <tr>\n",
       "      <th>3</th>\n",
       "      <td>4388.150000</td>\n",
       "      <td>4516.616667</td>\n",
       "      <td>5640.666667</td>\n",
       "      <td>4408.241667</td>\n",
       "      <td>4522.441667</td>\n",
       "    </tr>\n",
       "    <tr>\n",
       "      <th>4</th>\n",
       "      <td>4294.241667</td>\n",
       "      <td>4429.041667</td>\n",
       "      <td>5571.491667</td>\n",
       "      <td>4323.991667</td>\n",
       "      <td>4460.575000</td>\n",
       "    </tr>\n",
       "  </tbody>\n",
       "</table>\n",
       "</div>"
      ],
      "text/plain": [
       "               Load_megawatthours                                         \\\n",
       "Date                         2016         2017         2018         2019   \n",
       "Date Date Date                                                             \n",
       "1    1    0           4919.758333  5031.266667  6100.091667  4924.864286   \n",
       "          1           4737.991667  4861.641667  5927.383333  4743.608333   \n",
       "          2           4533.225000  4667.608333  5759.916667  4551.125000   \n",
       "          3           4388.150000  4516.616667  5640.666667  4408.241667   \n",
       "          4           4294.241667  4429.041667  5571.491667  4323.991667   \n",
       "\n",
       "                             \n",
       "Date                   2020  \n",
       "Date Date Date               \n",
       "1    1    0     4920.525000  \n",
       "          1     4782.291667  \n",
       "          2     4639.833333  \n",
       "          3     4522.441667  \n",
       "          4     4460.575000  "
      ]
     },
     "execution_count": 4,
     "metadata": {},
     "output_type": "execute_result"
    }
   ],
   "source": [
    "# Reorganize dataframe by Date (month, day, hour) with columns in years\n",
    "df = df.set_index('Date')\n",
    "# sort by index to make sure dates are in border\n",
    "df.sort_index(axis = 0) \n",
    "# Pivot table so we can calculate hourly averages by year\n",
    "pv = pd.pivot_table(df, index=[df.index.month, df.index.day, df.index.hour], columns=[df.index.year], values=['Load_megawatthours'])\n",
    "pv.head()\n"
   ]
  },
  {
   "cell_type": "code",
   "execution_count": null,
   "metadata": {
    "jupyter": {
     "outputs_hidden": false,
     "source_hidden": false
    },
    "nteract": {
     "transient": {
      "deleting": false
     }
    }
   },
   "outputs": [],
   "source": [
    "# Calculate hourly load averages excluding 2020\n",
    "load_avg = pv.loc[1:5].Load_megawatthours.iloc[:,0:4].median(axis=1)\n",
    "# Save 2020 load values\n",
    "load_2020 = pv.loc[1:5].Load_megawatthours.iloc[:,4]\n",
    "# Calculate percent change in load used\n",
    "load_2020pct_trend_removed = (load_2020-load_avg)/load_avg*100\n",
    "# Remake index with datetime values\n",
    "d = load_2020pct_trend_removed\n",
    "d.index = pd.to_datetime('2020-'+d.index.get_level_values(0).astype(str) + '-' +\n",
    "                          d.index.get_level_values(1).astype(str) + '-' +\n",
    "                          d.index.get_level_values(2).astype(str),\n",
    "               format='%Y-%m-%d-%H')\n",
    "# Convert series to dataframe\n",
    "d = d.to_frame('load_resid')\n",
    "d['load_avg'] = load_avg.values\n",
    "# Set date column with index values\n",
    "d['Date'] = d.index\n",
    "df['Date'] = df.index\n"
   ]
  },
  {
   "cell_type": "markdown",
   "metadata": {},
   "source": [
    "## Make Plots"
   ]
  },
  {
   "cell_type": "code",
   "execution_count": null,
   "metadata": {
    "jupyter": {
     "outputs_hidden": false,
     "source_hidden": false
    },
    "nteract": {
     "transient": {
      "deleting": false
     }
    }
   },
   "outputs": [],
   "source": [
    "# Plot Data\n",
    "fig, ax = plt.subplots(2, 1, figsize=(15,10), sharex=True)\n",
    "\n",
    "ax[0].plot(df.Date,df.Load_megawatthours,'-',linewidth=2,label='2020')\n",
    "ax[0].plot(d.Date,d.load_avg,'-',linewidth=2,label='2016-2019 avg.')\n",
    "ax[0].plot([nyc_SAH, nyc_SAH],[3000, 7000],'--r')\n",
    "ax[0].set_ylabel('Total Load (Mwh)',fontsize=23)\n",
    "ax[0].grid(True)\n",
    "ax[0].set_xlim([tmin, tmax])\n",
    "ax[0].set_ylim(3000,7000)\n",
    "ax[0].legend()\n",
    "ax[0].set_title('N.Y.C. Electrity Use',fontsize=23)\n",
    "\n",
    "ax[1].plot(d.Date,d.load_resid,'-',linewidth=2)\n",
    "ax[1].plot([nyc_SAH, nyc_SAH],[-30, 10],'--r')\n",
    "ax[1].set_ylabel('Change in Electricity Use',fontsize=23)\n",
    "ax[1].set_xlabel('Date',fontsize=23)\n",
    "ax[1].grid(True)\n",
    "ax[1].set_xlim([tmin, tmax])\n",
    "# Rotate tick marks on x-axis\n",
    "plt.setp(ax[1].get_xticklabels(), rotation=45)\n",
    "\n",
    "plt.show()\n"
   ]
  },
  {
   "cell_type": "code",
   "execution_count": null,
   "metadata": {
    "jupyter": {
     "outputs_hidden": false,
     "source_hidden": false
    },
    "nteract": {
     "transient": {
      "deleting": false
     }
    }
   },
   "outputs": [],
   "source": [
    "# Save hourly load averages to csv\n",
    "d.to_csv('Data/load_reduction_hourly_NYC.csv', \n",
    "            columns=['Date','load_resid','load_avg'], index=False)"
   ]
  }
 ],
 "metadata": {
  "kernelspec": {
   "display_name": "Python [default]",
   "language": "python",
   "name": "python3"
  },
  "language_info": {
   "codemirror_mode": {
    "name": "ipython",
    "version": 3
   },
   "file_extension": ".py",
   "mimetype": "text/x-python",
   "name": "python",
   "nbconvert_exporter": "python",
   "pygments_lexer": "ipython3",
   "version": "3.5.3"
  }
 },
 "nbformat": 4,
 "nbformat_minor": 1
}
