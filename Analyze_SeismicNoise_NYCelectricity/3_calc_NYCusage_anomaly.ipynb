{
 "cells": [
  {
   "cell_type": "markdown",
   "metadata": {
    "nteract": {
     "transient": {
      "deleting": false
     }
    }
   },
   "source": [
    "# Calculate hourly change in electricity consumption for NYC (relative to 2016-2019 average)\n",
    "Hourly load data is downloaded from http://mis.nyiso.com/public/. Averages for 2016-2019 are calculated for each hour of each day and subtracted from the 2020 values to obtain a measure of the residual load. Times are already in NYC local time and takes into account daylight savings."
   ]
  },
  {
   "cell_type": "code",
   "execution_count": null,
   "metadata": {
    "jupyter": {
     "outputs_hidden": false,
     "source_hidden": false
    },
    "nteract": {
     "transient": {
      "deleting": false
     }
    }
   },
   "outputs": [],
   "source": [
    "import matplotlib.pyplot as plt\n",
    "import numpy as np\n",
    "from datetime import datetime, timedelta\n",
    "import pandas as pd\n",
    "from io import BytesIO\n",
    "import requests\n",
    "from zipfile import ZipFile\n",
    "% matplotlib inline\n",
    "plt.rcParams.update({'font.size': 15})\n"
   ]
  },
  {
   "cell_type": "markdown",
   "metadata": {},
   "source": [
    "## Download Hourly Load Data\n",
    "The files are contained on the server in monthly zip files. Each zip file contains day files for each day of the month.\n",
    "\n",
    "For example:\n",
    "\n",
    "`\n",
    "http://mis.nyiso.com/public/\n",
    "                |\n",
    "                -- 20190601pal_csv.zip\n",
    "                             |\n",
    "                             -- 20190601pal.csv\n",
    "                                20190602pal.csv\n",
    "                                20190603pal.csv\n",
    "                                       .\n",
    "                                       .\n",
    "                                       `"
   ]
  },
  {
   "cell_type": "code",
   "execution_count": null,
   "metadata": {
    "jupyter": {
     "outputs_hidden": false,
     "source_hidden": false
    },
    "nteract": {
     "transient": {
      "deleting": false
     }
    }
   },
   "outputs": [],
   "source": [
    "# Set x-axis limits for plotting: datetime(YEAR, MONTH, DAY)\n",
    "tmin = datetime(2020, 2, 7)\n",
    "tmax = datetime(2020, 5, 15)\n",
    "\n",
    "# download hourly load data (in megawatt hours)\n",
    "datestr = pd.date_range('2016-01-01','2020-05-01', freq='MS').strftime(\"%Y%m01\").tolist()\n",
    "# Loop through zip files and add to list\n",
    "df_all = []\n",
    "for imon, monstr in enumerate(datestr):\n",
    "    print(monstr)\n",
    "    query_url = \"http://mis.nyiso.com/public/csv/pal/\"+monstr+\"pal_csv.zip\"\n",
    "    response = requests.get(query_url)\n",
    "\n",
    "    zip = ZipFile(BytesIO(response.content), 'r')\n",
    "    # Load files into dictionary of dataframes\n",
    "    dfs = {text_file.filename: pd.read_csv(zip.open(text_file.filename))\n",
    "           for text_file in zip.infolist()\n",
    "           if text_file.filename.endswith('.csv')}\n",
    "    # Join dataframes\n",
    "    dfi = pd.concat(dfs.values(), ignore_index=True)\n",
    "    # Index NYC\n",
    "    dfi_nyc = dfi[dfi.loc[:,'Name']=='N.Y.C.']\n",
    "    # Build list of dataframes that we will concat at the end\n",
    "    df_all.append(dfi_nyc)\n",
    "df = pd.concat(df_all)\n",
    "df.reset_index()\n",
    "df.rename(columns={'Time Stamp':'Date',\n",
    "                   'Load':'Load_megawatthours'},\n",
    "          inplace=True)\n",
    "# Convert date string to datetime\n",
    "df['Date']= pd.to_datetime(df['Date'])\n",
    "         "
   ]
  },
  {
   "cell_type": "code",
   "execution_count": null,
   "metadata": {
    "jupyter": {
     "outputs_hidden": false,
     "source_hidden": false
    },
    "nteract": {
     "transient": {
      "deleting": false
     }
    }
   },
   "outputs": [],
   "source": [
    "# NYC stay at home 2020/3/22 8pm EST (UTC - 4)\n",
    "nyc_SAH = datetime(2020,3,22,20,0) + timedelta(0,4*60*60)\n"
   ]
  },
  {
   "cell_type": "markdown",
   "metadata": {
    "nteract": {
     "transient": {
      "deleting": false
     }
    }
   },
   "source": [
    "## Remove yearly trend\n",
    "Calculate hourly averages for years 2016-2019 and subtract from 2020 values."
   ]
  },
  {
   "cell_type": "code",
   "execution_count": null,
   "metadata": {
    "jupyter": {
     "outputs_hidden": false,
     "source_hidden": false
    },
    "nteract": {
     "transient": {
      "deleting": false
     }
    }
   },
   "outputs": [],
   "source": [
    "\n",
    "# Reorganize dataframe by Date (month, day, hour) with columns in years\n",
    "df = df.set_index('Date')\n",
    "# sort by index to make sure dates are in border\n",
    "df.sort_index(axis = 0) \n",
    "# Pivot table so we can calculate hourly averages by year\n",
    "pv = pd.pivot_table(df, index=[df.index.month, df.index.day, df.index.hour], columns=[df.index.year], values=['Load_megawatthours'])\n",
    "# pv\n",
    "pv\n"
   ]
  },
  {
   "cell_type": "code",
   "execution_count": null,
   "metadata": {
    "jupyter": {
     "outputs_hidden": false,
     "source_hidden": false
    },
    "nteract": {
     "transient": {
      "deleting": false
     }
    }
   },
   "outputs": [],
   "source": [
    "\n",
    "# Calculate hourly load averages excluding 2020\n",
    "load_avg = pv.loc[1:5].Load_megawatthours.iloc[:,0:4].median(axis=1)\n",
    "# Save 2020 load values\n",
    "load_2020 = pv.loc[1:5].Load_megawatthours.iloc[:,4]\n",
    "# Calculate percent change in load used\n",
    "load_2020pct_trend_removed = (load_2020-load_avg)/load_avg*100\n",
    "# Remake index with datetime values\n",
    "d = load_2020pct_trend_removed\n",
    "d.index = pd.to_datetime('2020-'+d.index.get_level_values(0).astype(str) + '-' +\n",
    "                          d.index.get_level_values(1).astype(str) + '-' +\n",
    "                          d.index.get_level_values(2).astype(str),\n",
    "               format='%Y-%m-%d-%H')\n",
    "# Convert series to dataframe\n",
    "d = d.to_frame('load_resid')\n",
    "d['load_avg'] = load_avg.values\n",
    "# Set date column with index values\n",
    "d['Date'] = d.index\n",
    "df['Date'] = df.index\n"
   ]
  },
  {
   "cell_type": "markdown",
   "metadata": {},
   "source": [
    "## Make Plots"
   ]
  },
  {
   "cell_type": "code",
   "execution_count": null,
   "metadata": {
    "jupyter": {
     "outputs_hidden": false,
     "source_hidden": false
    },
    "nteract": {
     "transient": {
      "deleting": false
     }
    }
   },
   "outputs": [],
   "source": [
    "# Plot Data\n",
    "fig, ax = plt.subplots(2, 1, figsize=(15,10), sharex=True)\n",
    "\n",
    "ax[0].plot(df.Date,df.Load_megawatthours,'-',linewidth=2,label='2020')\n",
    "ax[0].plot(d.Date,d.load_avg,'-',linewidth=2,label='2016-2019 avg.')\n",
    "ax[0].plot([nyc_SAH, nyc_SAH],[3000, 7000],'--r')\n",
    "ax[0].set_ylabel('Total Load (Mwh)',fontsize=23)\n",
    "ax[0].grid(True)\n",
    "ax[0].set_xlim([tmin, tmax])\n",
    "ax[0].set_ylim(3000,7000)\n",
    "ax[0].legend()\n",
    "ax[0].set_title('N.Y.C. Electrity Use',fontsize=23)\n",
    "\n",
    "ax[1].plot(d.Date,d.load_resid,'-',linewidth=2)\n",
    "ax[1].plot([nyc_SAH, nyc_SAH],[-30, 10],'--r')\n",
    "ax[1].set_ylabel('Change in Electricity Use',fontsize=23)\n",
    "ax[1].set_xlabel('Date',fontsize=23)\n",
    "ax[1].grid(True)\n",
    "ax[1].set_xlim([tmin, tmax])\n",
    "# Rotate tick marks on x-axis\n",
    "plt.setp(ax[1].get_xticklabels(), rotation=45)\n",
    "\n",
    "plt.show()\n"
   ]
  },
  {
   "cell_type": "code",
   "execution_count": null,
   "metadata": {
    "jupyter": {
     "outputs_hidden": false,
     "source_hidden": false
    },
    "nteract": {
     "transient": {
      "deleting": false
     }
    }
   },
   "outputs": [],
   "source": [
    "# Save hourly load averages to csv\n",
    "d.to_csv('Data/load_reduction_hourly_NYC.csv', \n",
    "            columns=['Date','load_resid','load_avg'], index=False)"
   ]
  }
 ],
 "metadata": {
  "kernelspec": {
   "display_name": "Python [default]",
   "language": "python",
   "name": "python3"
  },
  "language_info": {
   "codemirror_mode": {
    "name": "ipython",
    "version": 3
   },
   "file_extension": ".py",
   "mimetype": "text/x-python",
   "name": "python",
   "nbconvert_exporter": "python",
   "pygments_lexer": "ipython3",
   "version": "3.5.3"
  }
 },
 "nbformat": 4,
 "nbformat_minor": 1
}
